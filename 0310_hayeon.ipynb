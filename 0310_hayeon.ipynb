{
 "cells": [
  {
   "cell_type": "code",
   "execution_count": null,
   "id": "fc2888d1",
   "metadata": {},
   "outputs": [],
   "source": [
    "# Train 데이터 설명력\n",
    "print(\"Score on training set: {:.3f}\".format(gb_final.score(df_final_train_x_rd, df_train_y)))\n",
    "# Test 데이터 설명력\n",
    "print(\"Score on test set: {:.3f}\".format(gb_final.score(df_final_test_x_rd, df_test_y)))\n",
    "\n",
    "final_x_cols = ['Power','Age','Kilometers_Driven',*Transmission_columns,*brand_columns,'Mileage']\n",
    "\n",
    "df_final_train_x_rd = df_train_x_rd[final_x_cols]\n",
    "df_final_test_x_rd = df_test_x_rd[final_x_cols]\n",
    "\n",
    "display(\"DT/RF/GB 용:\", df_final_train_x_rd.head())"
   ]
  },
  {
   "cell_type": "code",
   "execution_count": null,
   "id": "0a93d70c",
   "metadata": {},
   "outputs": [],
   "source": [
    "tree_final.fit(df_final_train_x_rd, df_train_y)"
   ]
  },
  {
   "cell_type": "code",
   "execution_count": null,
   "id": "47a8d53c",
   "metadata": {},
   "outputs": [],
   "source": [
    "# Train 데이터 설명력\n",
    "print(\"Score on training set: {:.3f}\".format(tree_final.score(df_final_train_x_rd, df_train_y)))\n",
    "# Test 데이터 설명력\n",
    "print(\"Score on test set: {:.3f}\".format(tree_final.score(df_final_test_x_rd, df_test_y)))"
   ]
  },
  {
   "cell_type": "code",
   "execution_count": null,
   "id": "bdbe0dd9",
   "metadata": {},
   "outputs": [],
   "source": [
    "rf_final.fit(df_final_train_x_rd, df_train_y)"
   ]
  },
  {
   "cell_type": "code",
   "execution_count": null,
   "id": "5ea28821",
   "metadata": {},
   "outputs": [],
   "source": [
    "# Train 데이터 설명력\n",
    "print(\"Score on training set: {:.3f}\".format(rf_final.score(df_final_train_x_rd, df_train_y)))\n",
    "# Test 데이터 설명력\n",
    "print(\"Score on test set: {:.3f}\".format(rf_final.score(df_final_test_x_rd, df_test_y)))"
   ]
  },
  {
   "cell_type": "code",
   "execution_count": null,
   "id": "ceeb7b4a",
   "metadata": {},
   "outputs": [],
   "source": []
  },
  {
   "cell_type": "code",
   "execution_count": null,
   "id": "44aebfe2",
   "metadata": {},
   "outputs": [],
   "source": [
    "gb_final.fit(df_final_train_x_rd, df_train_y)"
   ]
  },
  {
   "cell_type": "code",
   "execution_count": null,
   "id": "8ebeb17d",
   "metadata": {},
   "outputs": [],
   "source": [
    "# Train 데이터 설명력\n",
    "print(\"Score on training set: {:.3f}\".format(gb_final.score(df_final_train_x_rd, df_train_y)))\n",
    "# Test 데이터 설명력\n",
    "print(\"Score on test set: {:.3f}\".format(gb_final.score(df_final_test_x_rd, df_test_y)))"
   ]
  },
  {
   "cell_type": "code",
   "execution_count": null,
   "id": "5a645963",
   "metadata": {},
   "outputs": [],
   "source": []
  },
  {
   "cell_type": "code",
   "execution_count": null,
   "id": "c81197b1",
   "metadata": {},
   "outputs": [],
   "source": [
    "xgb_final.fit(df_final_train_x_rd, df_train_y)"
   ]
  },
  {
   "cell_type": "code",
   "execution_count": null,
   "id": "6373922d",
   "metadata": {},
   "outputs": [],
   "source": [
    "# Train 데이터 설명력\n",
    "print(\"Score on training set: {:.3f}\".format(xgb_final.score(df_final_train_x_rd, df_train_y)))\n",
    "# Test 데이터 설명력\n",
    "print(\"Score on test set: {:.3f}\".format(xgb_final.score(df_final_test_x_rd, df_test_y)))"
   ]
  }
 ],
 "metadata": {
  "kernelspec": {
   "display_name": "Python 3 (ipykernel)",
   "language": "python",
   "name": "python3"
  },
  "language_info": {
   "codemirror_mode": {
    "name": "ipython",
    "version": 3
   },
   "file_extension": ".py",
   "mimetype": "text/x-python",
   "name": "python",
   "nbconvert_exporter": "python",
   "pygments_lexer": "ipython3",
   "version": "3.10.9"
  }
 },
 "nbformat": 4,
 "nbformat_minor": 5
}
